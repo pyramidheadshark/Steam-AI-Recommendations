{
 "cells": [
  {
   "cell_type": "code",
   "execution_count": 474,
   "metadata": {},
   "outputs": [],
   "source": [
    "import os\n",
    "from pathlib import Path\n",
    "import pandas as pd\n",
    "import numpy as np"
   ]
  },
  {
   "cell_type": "code",
   "execution_count": 475,
   "metadata": {},
   "outputs": [
    {
     "data": {
      "text/plain": [
       "'C:\\\\Users\\\\pyramidheadshark\\\\Repos\\\\Steam-AI-Recommendations\\\\data\\\\raw\\\\Steam Games 2024.csv'"
      ]
     },
     "execution_count": 475,
     "metadata": {},
     "output_type": "execute_result"
    }
   ],
   "source": [
    "project_dir = \"C:\\\\Users\\\\pyramidheadshark\\\\Repos\\\\Steam-AI-Recommendations\"\n",
    "file_path = os.path.join(project_dir, 'data', 'raw', 'Steam Games 2024.csv')\n",
    "file_path"
   ]
  },
  {
   "cell_type": "code",
   "execution_count": 476,
   "metadata": {},
   "outputs": [
    {
     "name": "stderr",
     "output_type": "stream",
     "text": [
      "C:\\Users\\pyramidheadshark\\AppData\\Local\\Temp\\ipykernel_23336\\2618208116.py:1: DtypeWarning: Columns (0,4,5,6,7,8,17,18,19,20,22,23,24,25,26,27,29,30,31,32) have mixed types. Specify dtype option on import or set low_memory=False.\n",
      "  df = pd.read_csv(file_path)\n"
     ]
    }
   ],
   "source": [
    "df = pd.read_csv(file_path)"
   ]
  },
  {
   "cell_type": "code",
   "execution_count": 477,
   "metadata": {},
   "outputs": [
    {
     "name": "stdout",
     "output_type": "stream",
     "text": [
      "<class 'pandas.core.frame.DataFrame'>\n",
      "RangeIndex: 97428 entries, 0 to 97427\n",
      "Data columns (total 40 columns):\n",
      " #   Column                      Non-Null Count  Dtype \n",
      "---  ------                      --------------  ----- \n",
      " 0   AppID                       97415 non-null  object\n",
      " 1   Name                        97412 non-null  object\n",
      " 2   Release date                97418 non-null  object\n",
      " 3   Estimated owners            97417 non-null  object\n",
      " 4   Peak CCU                    97417 non-null  object\n",
      " 5   Required age                97417 non-null  object\n",
      " 6   Price                       97416 non-null  object\n",
      " 7   Discount                    97417 non-null  object\n",
      " 8   DLC count                   97418 non-null  object\n",
      " 9   About the game              92537 non-null  object\n",
      " 10  Supported languages         97410 non-null  object\n",
      " 11  Full audio languages        97410 non-null  object\n",
      " 12  Reviews                     10132 non-null  object\n",
      " 13  Header image                97409 non-null  object\n",
      " 14  Website                     42745 non-null  object\n",
      " 15  Support url                 45905 non-null  object\n",
      " 16  Support email               81374 non-null  object\n",
      " 17  Windows                     97409 non-null  object\n",
      " 18  Mac                         97410 non-null  object\n",
      " 19  Linux                       97409 non-null  object\n",
      " 20  Metacritic score            97409 non-null  object\n",
      " 21  Metacritic url              3961 non-null   object\n",
      " 22  User score                  97410 non-null  object\n",
      " 23  Positive                    97410 non-null  object\n",
      " 24  Negative                    97410 non-null  object\n",
      " 25  Score rank                  52 non-null     object\n",
      " 26  Achievements                97410 non-null  object\n",
      " 27  Recommendations             97410 non-null  object\n",
      " 28  Notes                       15477 non-null  object\n",
      " 29  Average playtime forever    97409 non-null  object\n",
      " 30  Average playtime two weeks  97410 non-null  object\n",
      " 31  Median playtime forever     97409 non-null  object\n",
      " 32  Median playtime two weeks   97408 non-null  object\n",
      " 33  Developers                  92531 non-null  object\n",
      " 34  Publishers                  92237 non-null  object\n",
      " 35  Categories                  91495 non-null  object\n",
      " 36  Genres                      92567 non-null  object\n",
      " 37  Tags                        67653 non-null  object\n",
      " 38  Screenshots                 94513 non-null  object\n",
      " 39  Movies                      89520 non-null  object\n",
      "dtypes: object(40)\n",
      "memory usage: 29.7+ MB\n"
     ]
    }
   ],
   "source": [
    "df.info()"
   ]
  },
  {
   "cell_type": "code",
   "execution_count": 478,
   "metadata": {},
   "outputs": [
    {
     "data": {
      "text/plain": [
       "Index(['AppID', 'Name', 'Release date', 'Estimated owners', 'Peak CCU',\n",
       "       'Required age', 'Price', 'Discount', 'DLC count', 'About the game',\n",
       "       'Supported languages', 'Full audio languages', 'Reviews',\n",
       "       'Header image', 'Website', 'Support url', 'Support email', 'Windows',\n",
       "       'Mac', 'Linux', 'Metacritic score', 'Metacritic url', 'User score',\n",
       "       'Positive', 'Negative', 'Score rank', 'Achievements', 'Recommendations',\n",
       "       'Notes', 'Average playtime forever', 'Average playtime two weeks',\n",
       "       'Median playtime forever', 'Median playtime two weeks', 'Developers',\n",
       "       'Publishers', 'Categories', 'Genres', 'Tags', 'Screenshots', 'Movies'],\n",
       "      dtype='object')"
      ]
     },
     "execution_count": 478,
     "metadata": {},
     "output_type": "execute_result"
    }
   ],
   "source": [
    "df.columns"
   ]
  },
  {
   "cell_type": "code",
   "execution_count": 479,
   "metadata": {},
   "outputs": [],
   "source": [
    "columns_to_drop = ['Discount', 'Reviews', 'Support url', 'Support email', 'Notes']"
   ]
  },
  {
   "cell_type": "code",
   "execution_count": 480,
   "metadata": {},
   "outputs": [],
   "source": [
    "df.drop(columns=columns_to_drop, inplace=True)"
   ]
  },
  {
   "cell_type": "code",
   "execution_count": null,
   "metadata": {},
   "outputs": [],
   "source": [
    "col_dtypes = {\n",
    "    'AppID': 'Int32',\n",
    "    'Name': 'object',\n",
    "    'Release date': 'datetime64[ns]',\n",
    "    'Estimated owners': 'Int32',\n",
    "    'Peak CCU': 'Int64',\n",
    "    'Required age': 'Int8',\n",
    "    'Price': 'float64',\n",
    "    'DLC count': 'Int16',\n",
    "    'About the game': 'object',\n",
    "    'Supported languages': 'object',\n",
    "    'Full audio languages': 'object',\n",
    "    'Header image': 'object',\n",
    "    'Website': 'object',\n",
    "    'Windows': 'boolean',\n",
    "    'Mac': 'boolean',\n",
    "    'Linux': 'boolean',\n",
    "    'Metacritic score': 'Int8',\n",
    "    'Metacritic url': 'object',\n",
    "    'User score': 'float64',\n",
    "    'Positive': 'Int32',\n",
    "    'Negative': 'Int32',\n",
    "    'Score rank': 'Int8',\n",
    "    'Achievements': 'Int16',\n",
    "    'Recommendations': 'Int32',\n",
    "    'Average playtime forever': 'float64',\n",
    "    'Average playtime two weeks': 'float64',\n",
    "    'Median playtime forever': 'float64',\n",
    "    'Median playtime two weeks': 'float64',\n",
    "    'Developers': 'object',\n",
    "    'Publishers': 'object',\n",
    "    'Categories': 'object',\n",
    "    'Genres': 'object',\n",
    "    'Tags': 'object',\n",
    "    'Screenshots': 'object',\n",
    "    'Movies': 'object'\n",
    "}"
   ]
  },
  {
   "cell_type": "code",
   "execution_count": 482,
   "metadata": {},
   "outputs": [],
   "source": [
    "df = df[pd.to_numeric(df['AppID'], errors='coerce').notnull()]\n",
    "df['AppID'] = pd.to_numeric(df['AppID'], errors='coerce').astype('Int32')"
   ]
  },
  {
   "cell_type": "code",
   "execution_count": 483,
   "metadata": {},
   "outputs": [],
   "source": [
    "for col in ['Windows', 'Mac', 'Linux']:\n",
    "        df[col] = df[col].astype(str).str.lower() == 'true'"
   ]
  },
  {
   "cell_type": "code",
   "execution_count": 484,
   "metadata": {},
   "outputs": [],
   "source": [
    "try:\n",
    "    df['Release date'] = pd.to_datetime(df['Release date'], format='%b %d, %Y', errors='coerce')\n",
    "except ValueError as e:\n",
    "    print(f\"Error converting 'Release date' column: {e}.  Check for inconsistencies in date format.\")"
   ]
  },
  {
   "cell_type": "code",
   "execution_count": 485,
   "metadata": {},
   "outputs": [],
   "source": [
    "valid_estimated_owner_ranges = ['0 - 20000', '50000 - 100000', '20000 - 50000', '200000 - 500000', '100000 - 200000',\n",
    "                    '2000000 - 5000000', '0 - 0', '500000 - 1000000', '1000000 - 2000000',\n",
    "                    '20000000 - 50000000', '5000000 - 10000000', '10000000 - 20000000',\n",
    "                    '50000000 - 100000000', '100000000 - 200000000']"
   ]
  },
  {
   "cell_type": "code",
   "execution_count": 486,
   "metadata": {},
   "outputs": [],
   "source": [
    "df = df[df['Estimated owners'].isin(valid_estimated_owner_ranges)]"
   ]
  },
  {
   "cell_type": "code",
   "execution_count": 487,
   "metadata": {},
   "outputs": [],
   "source": [
    "try:\n",
    "    lower_bounds = df['Estimated owners'].str.split(' - ').str[0].astype(float)\n",
    "    upper_bounds = df['Estimated owners'].str.split(' - ').str[1].astype(float)\n",
    "    df['Estimated owners'] = (lower_bounds + upper_bounds) / 2\n",
    "    df['Estimated owners'] = df['Estimated owners'].astype('Int32')\n",
    "except (ValueError, AttributeError, IndexError) as e:\n",
    "    print(f\"Error processing 'Estimated owners' column (after filtering): {e}\")"
   ]
  },
  {
   "cell_type": "code",
   "execution_count": 488,
   "metadata": {},
   "outputs": [],
   "source": [
    "try:\n",
    "    df['Peak CCU'] = pd.to_numeric(df['Peak CCU'], errors='coerce').astype('Int32')\n",
    "except (ValueError, TypeError) as e:\n",
    "    print(f\"Error converting 'Peak CCU' column: {e}.  Attempting more robust cleaning.\")\n",
    "    df['Peak CCU'] = df['Peak CCU'].astype(str).str.replace(r'[^\\d.]', '', regex=True)\n",
    "    df['Peak CCU'] = pd.to_numeric(df['Peak CCU'], errors='coerce').astype('Int32')\n"
   ]
  },
  {
   "cell_type": "code",
   "execution_count": 489,
   "metadata": {},
   "outputs": [],
   "source": [
    "valid_ages = [0, 17, 18, 10, 13, 16, 6, 14, 12, 15, 3, 21, 7, 5, 20, 1, 19, 9, 11]"
   ]
  },
  {
   "cell_type": "code",
   "execution_count": 490,
   "metadata": {},
   "outputs": [],
   "source": [
    "try:\n",
    "    df['Required age'] = pd.to_numeric(df['Required age'], errors='coerce')\n",
    "    df = df[df['Required age'].isin(valid_ages)]\n",
    "    df['Required age'] = df['Required age'].astype('Int8')\n",
    "except (ValueError, TypeError) as e:\n",
    "    print(f\"Error converting 'Required age' column: {e}.  Invalid values found.\")\n"
   ]
  },
  {
   "cell_type": "code",
   "execution_count": 491,
   "metadata": {},
   "outputs": [
    {
     "name": "stdout",
     "output_type": "stream",
     "text": [
      "Error converting 'DLC count' column: cannot safely cast non-equivalent object to int16. Cleaning string values.\n"
     ]
    }
   ],
   "source": [
    "try:\n",
    "    df['DLC count'] = df['DLC count'].astype('Int16')\n",
    "except (ValueError, TypeError) as e:\n",
    "    print(f\"Error converting 'DLC count' column: {e}. Cleaning string values.\")\n",
    "\n",
    "    df['DLC count'] = df['DLC count'].astype(str).str.lower()\n",
    "    df['DLC count'] = df['DLC count'].str.replace(r'[^\\d.]', '', regex=True)\n",
    "    df['DLC count'] = df['DLC count'].replace(['n/a', 'none', ''], np.nan)\n",
    "\n",
    "    df['DLC count'] = pd.to_numeric(df['DLC count'], errors='coerce').astype('Int16')\n"
   ]
  },
  {
   "cell_type": "code",
   "execution_count": 492,
   "metadata": {},
   "outputs": [],
   "source": [
    "try:\n",
    "    df['Metacritic score'] = df['Metacritic score'].replace('<NA>', np.nan)\n",
    "    df['Metacritic score'] = pd.to_numeric(df['Metacritic score'], errors='coerce').astype('Int8')\n",
    "\n",
    "except (ValueError, TypeError) as e:\n",
    "    print(f\"Error converting 'Metacritic score' column: {e}.  Check for unexpected values.\")"
   ]
  },
  {
   "cell_type": "code",
   "execution_count": 493,
   "metadata": {},
   "outputs": [
    {
     "name": "stdout",
     "output_type": "stream",
     "text": [
      "Error converting 'Positive' column: cannot safely cast non-equivalent object to int32. Cleaning non-numeric values.\n"
     ]
    }
   ],
   "source": [
    "try:\n",
    "    df['Positive'] = df['Positive'].replace('<NA>', np.nan)\n",
    "    df['Positive'] = df['Positive'].round().astype('Int32')\n",
    "\n",
    "except (ValueError, TypeError) as e:\n",
    "    print(f\"Error converting 'Positive' column: {e}. Cleaning non-numeric values.\")\n",
    "    df['Positive'] = df['Positive'].astype(str).str.replace(r'[^\\d.]', '', regex=True)\n",
    "    df['Positive'] = pd.to_numeric(df['Positive'], errors='coerce').astype('Int32')"
   ]
  },
  {
   "cell_type": "code",
   "execution_count": 494,
   "metadata": {},
   "outputs": [
    {
     "name": "stdout",
     "output_type": "stream",
     "text": [
      "Error converting 'Negative' column: cannot safely cast non-equivalent object to int32. Cleaning non-numeric values.\n"
     ]
    }
   ],
   "source": [
    "try:\n",
    "    df['Negative'] = df['Negative'].replace('<NA>', np.nan)\n",
    "    df['Negative'] = df['Negative'].round().astype('Int32')\n",
    "\n",
    "except (ValueError, TypeError) as e:\n",
    "    print(f\"Error converting 'Negative' column: {e}. Cleaning non-numeric values.\")\n",
    "    df['Negative'] = df['Negative'].astype(str).str.replace(r'[^\\d.]', '', regex=True)\n",
    "    df['Negative'] = pd.to_numeric(df['Negative'], errors='coerce').astype('Int32')"
   ]
  },
  {
   "cell_type": "code",
   "execution_count": 495,
   "metadata": {},
   "outputs": [],
   "source": [
    "try:\n",
    "    df['Score rank'] = df['Score rank'].replace('<NA>', np.nan)\n",
    "    df['Score rank'] = df['Positive'].round().astype('Int8')\n",
    "\n",
    "except (ValueError, TypeError) as e:\n",
    "    print(f\"Error converting 'Score rank' column: {e}. Cleaning non-numeric values.\")\n",
    "\n",
    "    df['Score rank'] = df['Score rank'].astype(str).str.replace(r'[^\\d.]', '', regex=True)\n",
    "    df['Score rank'] = df['Score rank'].astype('Int8')"
   ]
  },
  {
   "cell_type": "code",
   "execution_count": 496,
   "metadata": {},
   "outputs": [],
   "source": [
    "df['Achievements'] = df['Achievements'].replace(['<NA>', ''], np.nan)\n",
    "df['Achievements'] = pd.to_numeric(df['Achievements'], errors='coerce').astype('Int16')"
   ]
  },
  {
   "cell_type": "code",
   "execution_count": 497,
   "metadata": {},
   "outputs": [
    {
     "name": "stdout",
     "output_type": "stream",
     "text": [
      "Error converting 'Recommendations' column: cannot safely cast non-equivalent object to int32. Cleaning non-numeric values.\n"
     ]
    }
   ],
   "source": [
    "try:\n",
    "    df['Recommendations'] = df['Recommendations'].replace('<NA>', np.nan)\n",
    "    df['Recommendations'] = df['Recommendations'].round().astype('Int32')\n",
    "\n",
    "except (ValueError, TypeError) as e:\n",
    "    print(f\"Error converting 'Recommendations' column: {e}. Cleaning non-numeric values.\")\n",
    "    df['Recommendations'] = df['Recommendations'].astype(str).str.replace(r'[^\\d.]', '', regex=True)\n",
    "    df['Recommendations'] = pd.to_numeric(df['Recommendations'], errors='coerce').astype('Int32')"
   ]
  },
  {
   "cell_type": "code",
   "execution_count": 498,
   "metadata": {},
   "outputs": [],
   "source": [
    "for col, dtype in col_dtypes.items():\n",
    "    if col.lower() not in [\n",
    "        'appid', 'windows', 'mac', 'linux',\n",
    "        'release date', 'estimated owners', 'required age',\n",
    "        'dlc count', 'metacritic score', 'positive',\n",
    "        'negative', 'score rank', 'achievements',\n",
    "        'recommendations'\n",
    "        ]:\n",
    "        try:\n",
    "            df[col] = df[col].astype(dtype, errors='raise')\n",
    "        except (ValueError, TypeError) as e:\n",
    "            print(f\"Error converting column '{col}' to type '{dtype}': {e}\")\n",
    "            if dtype in ['Int64', 'int64']:\n",
    "                df[col] = pd.to_numeric(df[col], errors='coerce').astype('Int64')\n",
    "            elif dtype == 'float64':\n",
    "                df[col] = pd.to_numeric(df[col], errors='coerce')\n",
    "            else:\n",
    "                print(f\"Fallback to object dtype. Column {col} not converted.\")"
   ]
  },
  {
   "cell_type": "code",
   "execution_count": 499,
   "metadata": {},
   "outputs": [
    {
     "name": "stdout",
     "output_type": "stream",
     "text": [
      "<class 'pandas.core.frame.DataFrame'>\n",
      "Index: 97410 entries, 0 to 97427\n",
      "Data columns (total 35 columns):\n",
      " #   Column                      Non-Null Count  Dtype         \n",
      "---  ------                      --------------  -----         \n",
      " 0   AppID                       97410 non-null  Int32         \n",
      " 1   Name                        97404 non-null  object        \n",
      " 2   Release date                97279 non-null  datetime64[ns]\n",
      " 3   Estimated owners            97410 non-null  Int32         \n",
      " 4   Peak CCU                    97410 non-null  Int64         \n",
      " 5   Required age                97410 non-null  Int8          \n",
      " 6   Price                       97410 non-null  float64       \n",
      " 7   DLC count                   97410 non-null  Int16         \n",
      " 8   About the game              92529 non-null  object        \n",
      " 9   Supported languages         97402 non-null  object        \n",
      " 10  Full audio languages        97402 non-null  object        \n",
      " 11  Header image                97402 non-null  object        \n",
      " 12  Website                     42737 non-null  object        \n",
      " 13  Windows                     97410 non-null  bool          \n",
      " 14  Mac                         97410 non-null  bool          \n",
      " 15  Linux                       97410 non-null  bool          \n",
      " 16  Metacritic score            97402 non-null  Int8          \n",
      " 17  Metacritic url              3953 non-null   object        \n",
      " 18  User score                  97402 non-null  float64       \n",
      " 19  Positive                    97402 non-null  Int32         \n",
      " 20  Negative                    97402 non-null  Int32         \n",
      " 21  Score rank                  97402 non-null  Int8          \n",
      " 22  Achievements                97402 non-null  Int16         \n",
      " 23  Recommendations             97402 non-null  Int32         \n",
      " 24  Average playtime forever    97402 non-null  float64       \n",
      " 25  Average playtime two weeks  97402 non-null  float64       \n",
      " 26  Median playtime forever     97402 non-null  float64       \n",
      " 27  Median playtime two weeks   97402 non-null  float64       \n",
      " 28  Developers                  92525 non-null  object        \n",
      " 29  Publishers                  92231 non-null  object        \n",
      " 30  Categories                  91489 non-null  object        \n",
      " 31  Genres                      92561 non-null  object        \n",
      " 32  Tags                        67647 non-null  object        \n",
      " 33  Screenshots                 94507 non-null  object        \n",
      " 34  Movies                      89514 non-null  object        \n",
      "dtypes: Int16(2), Int32(5), Int64(1), Int8(3), bool(3), datetime64[ns](1), float64(6), object(14)\n",
      "memory usage: 20.9+ MB\n"
     ]
    }
   ],
   "source": [
    "df.info()"
   ]
  },
  {
   "cell_type": "code",
   "execution_count": null,
   "metadata": {},
   "outputs": [],
   "source": []
  }
 ],
 "metadata": {
  "kernelspec": {
   "display_name": "Steam-AI-Recommendations",
   "language": "python",
   "name": "python3"
  },
  "language_info": {
   "codemirror_mode": {
    "name": "ipython",
    "version": 3
   },
   "file_extension": ".py",
   "mimetype": "text/x-python",
   "name": "python",
   "nbconvert_exporter": "python",
   "pygments_lexer": "ipython3",
   "version": "3.11.10"
  }
 },
 "nbformat": 4,
 "nbformat_minor": 2
}
