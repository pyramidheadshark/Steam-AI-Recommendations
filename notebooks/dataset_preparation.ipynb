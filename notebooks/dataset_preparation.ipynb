{
 "cells": [
  {
   "cell_type": "code",
   "execution_count": 12,
   "metadata": {},
   "outputs": [],
   "source": [
    "import os\n",
    "from pathlib import Path\n",
    "import pandas as pd"
   ]
  },
  {
   "cell_type": "code",
   "execution_count": 18,
   "metadata": {},
   "outputs": [
    {
     "data": {
      "text/plain": [
       "'C:\\\\Users\\\\pyramidheadshark\\\\Repos\\\\Steam-AI-Recommendations\\\\data\\\\raw\\\\Steam Games 2024.csv'"
      ]
     },
     "execution_count": 18,
     "metadata": {},
     "output_type": "execute_result"
    }
   ],
   "source": [
    "project_dir = \"C:\\\\Users\\\\pyramidheadshark\\\\Repos\\\\Steam-AI-Recommendations\"\n",
    "file_path = os.path.join(project_dir, 'data', 'raw', 'Steam Games 2024.csv')\n",
    "file_path"
   ]
  },
  {
   "cell_type": "code",
   "execution_count": null,
   "metadata": {},
   "outputs": [
    {
     "name": "stderr",
     "output_type": "stream",
     "text": [
      "C:\\Users\\pyramidheadshark\\AppData\\Local\\Temp\\ipykernel_18832\\2618208116.py:1: DtypeWarning: Columns (0,4,5,6,7,8,17,18,19,20,22,23,24,25,26,27,29,30,31,32) have mixed types. Specify dtype option on import or set low_memory=False.\n",
      "  df = pd.read_csv(file_path)\n"
     ]
    }
   ],
   "source": [
    "df = pd.read_csv(file_path)"
   ]
  },
  {
   "cell_type": "code",
   "execution_count": 20,
   "metadata": {},
   "outputs": [
    {
     "name": "stdout",
     "output_type": "stream",
     "text": [
      "<class 'pandas.core.frame.DataFrame'>\n",
      "RangeIndex: 97428 entries, 0 to 97427\n",
      "Data columns (total 40 columns):\n",
      " #   Column                      Non-Null Count  Dtype \n",
      "---  ------                      --------------  ----- \n",
      " 0   AppID                       97415 non-null  object\n",
      " 1   Name                        97412 non-null  object\n",
      " 2   Release date                97418 non-null  object\n",
      " 3   Estimated owners            97417 non-null  object\n",
      " 4   Peak CCU                    97417 non-null  object\n",
      " 5   Required age                97417 non-null  object\n",
      " 6   Price                       97416 non-null  object\n",
      " 7   Discount                    97417 non-null  object\n",
      " 8   DLC count                   97418 non-null  object\n",
      " 9   About the game              92537 non-null  object\n",
      " 10  Supported languages         97410 non-null  object\n",
      " 11  Full audio languages        97410 non-null  object\n",
      " 12  Reviews                     10132 non-null  object\n",
      " 13  Header image                97409 non-null  object\n",
      " 14  Website                     42745 non-null  object\n",
      " 15  Support url                 45905 non-null  object\n",
      " 16  Support email               81374 non-null  object\n",
      " 17  Windows                     97409 non-null  object\n",
      " 18  Mac                         97410 non-null  object\n",
      " 19  Linux                       97409 non-null  object\n",
      " 20  Metacritic score            97409 non-null  object\n",
      " 21  Metacritic url              3961 non-null   object\n",
      " 22  User score                  97410 non-null  object\n",
      " 23  Positive                    97410 non-null  object\n",
      " 24  Negative                    97410 non-null  object\n",
      " 25  Score rank                  52 non-null     object\n",
      " 26  Achievements                97410 non-null  object\n",
      " 27  Recommendations             97410 non-null  object\n",
      " 28  Notes                       15477 non-null  object\n",
      " 29  Average playtime forever    97409 non-null  object\n",
      " 30  Average playtime two weeks  97410 non-null  object\n",
      " 31  Median playtime forever     97409 non-null  object\n",
      " 32  Median playtime two weeks   97408 non-null  object\n",
      " 33  Developers                  92531 non-null  object\n",
      " 34  Publishers                  92237 non-null  object\n",
      " 35  Categories                  91495 non-null  object\n",
      " 36  Genres                      92567 non-null  object\n",
      " 37  Tags                        67653 non-null  object\n",
      " 38  Screenshots                 94513 non-null  object\n",
      " 39  Movies                      89520 non-null  object\n",
      "dtypes: object(40)\n",
      "memory usage: 29.7+ MB\n"
     ]
    }
   ],
   "source": [
    "df.info()"
   ]
  },
  {
   "cell_type": "code",
   "execution_count": 22,
   "metadata": {},
   "outputs": [
    {
     "data": {
      "text/plain": [
       "Index(['AppID', 'Name', 'Release date', 'Estimated owners', 'Peak CCU',\n",
       "       'Required age', 'Price', 'Discount', 'DLC count', 'About the game',\n",
       "       'Supported languages', 'Full audio languages', 'Reviews',\n",
       "       'Header image', 'Website', 'Support url', 'Support email', 'Windows',\n",
       "       'Mac', 'Linux', 'Metacritic score', 'Metacritic url', 'User score',\n",
       "       'Positive', 'Negative', 'Score rank', 'Achievements', 'Recommendations',\n",
       "       'Notes', 'Average playtime forever', 'Average playtime two weeks',\n",
       "       'Median playtime forever', 'Median playtime two weeks', 'Developers',\n",
       "       'Publishers', 'Categories', 'Genres', 'Tags', 'Screenshots', 'Movies'],\n",
       "      dtype='object')"
      ]
     },
     "execution_count": 22,
     "metadata": {},
     "output_type": "execute_result"
    }
   ],
   "source": [
    "df.columns"
   ]
  },
  {
   "cell_type": "code",
   "execution_count": null,
   "metadata": {},
   "outputs": [],
   "source": []
  }
 ],
 "metadata": {
  "kernelspec": {
   "display_name": "Steam-AI-Recommendations",
   "language": "python",
   "name": "python3"
  },
  "language_info": {
   "codemirror_mode": {
    "name": "ipython",
    "version": 3
   },
   "file_extension": ".py",
   "mimetype": "text/x-python",
   "name": "python",
   "nbconvert_exporter": "python",
   "pygments_lexer": "ipython3",
   "version": "3.11.10"
  }
 },
 "nbformat": 4,
 "nbformat_minor": 2
}
